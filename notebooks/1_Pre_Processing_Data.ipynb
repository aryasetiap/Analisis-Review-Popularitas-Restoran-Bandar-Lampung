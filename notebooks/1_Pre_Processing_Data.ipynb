{
 "cells": [
  {
   "cell_type": "markdown",
   "id": "73544e06",
   "metadata": {},
   "source": [
    "# **Pre-Processing Data 🚀🚀🚀**"
   ]
  },
  {
   "cell_type": "markdown",
   "id": "415d9787",
   "metadata": {},
   "source": [
    "##### **Import Library**\n",
    "Pada bagian ini, kita akan mengimpor library yang diperlukan untuk proses pre-processing\n",
    " data, seperti pandas untuk manipulasi data, numpy untuk operasi numerik, dan library lain yang relevan sesuai kebutuhan analisis."
   ]
  },
  {
   "cell_type": "code",
   "execution_count": 12,
   "id": "2714221c",
   "metadata": {},
   "outputs": [],
   "source": [
    "import pandas as pd\n",
    "import numpy as np"
   ]
  },
  {
   "cell_type": "markdown",
   "id": "2b72e8a4",
   "metadata": {},
   "source": [
    "##### **Load Dataset**\n",
    "Pada bagian ini, kita akan memuat dataset yang akan digunakan untuk analisis. Pastikan file dataset sudah tersedia di direktori kerja, lalu gunakan fungsi yang sesuai (misal: `pd.read_csv`) untuk membaca data ke dalam DataFrame pandas."
   ]
  },
  {
   "cell_type": "code",
   "execution_count": 15,
   "id": "635cc63d",
   "metadata": {},
   "outputs": [
    {
     "data": {
      "text/html": [
       "<div>\n",
       "<style scoped>\n",
       "    .dataframe tbody tr th:only-of-type {\n",
       "        vertical-align: middle;\n",
       "    }\n",
       "\n",
       "    .dataframe tbody tr th {\n",
       "        vertical-align: top;\n",
       "    }\n",
       "\n",
       "    .dataframe thead th {\n",
       "        text-align: right;\n",
       "    }\n",
       "</style>\n",
       "<table border=\"1\" class=\"dataframe\">\n",
       "  <thead>\n",
       "    <tr style=\"text-align: right;\">\n",
       "      <th></th>\n",
       "      <th>title</th>\n",
       "      <th>address</th>\n",
       "      <th>url</th>\n",
       "      <th>reviewId</th>\n",
       "      <th>stars</th>\n",
       "      <th>name</th>\n",
       "      <th>reviewUrl</th>\n",
       "      <th>text</th>\n",
       "      <th>publishedAtDate</th>\n",
       "      <th>reviewDetailedRating/Layanan</th>\n",
       "      <th>reviewDetailedRating/Makanan</th>\n",
       "      <th>reviewDetailedRating/Suasana</th>\n",
       "    </tr>\n",
       "  </thead>\n",
       "  <tbody>\n",
       "    <tr>\n",
       "      <th>0</th>\n",
       "      <td>Solaria - Lampung City Mall</td>\n",
       "      <td>Jl. Yos Sudarso No.44, Tlk. Betung, Kec. Bumi ...</td>\n",
       "      <td>https://www.google.com/maps/search/?api=1&amp;quer...</td>\n",
       "      <td>Ci9DQUlRQUNvZENodHljRjlvT21wSmFIbzRWa053TWtObF...</td>\n",
       "      <td>3</td>\n",
       "      <td>CERMIN by Heno Soeroso</td>\n",
       "      <td>https://www.google.com/maps/reviews/data=!4m8!...</td>\n",
       "      <td>Pu Yung hai rasanya kaya bakwan dikasih saos a...</td>\n",
       "      <td>2025-05-29T03:10:20.007Z</td>\n",
       "      <td>3.0</td>\n",
       "      <td>3.0</td>\n",
       "      <td>3.0</td>\n",
       "    </tr>\n",
       "    <tr>\n",
       "      <th>1</th>\n",
       "      <td>Solaria - Lampung City Mall</td>\n",
       "      <td>Jl. Yos Sudarso No.44, Tlk. Betung, Kec. Bumi ...</td>\n",
       "      <td>https://www.google.com/maps/search/?api=1&amp;quer...</td>\n",
       "      <td>ChdDSUhNMG9nS0VJQ0FnTURvMUozeHl3RRAB</td>\n",
       "      <td>5</td>\n",
       "      <td>Rudy Ramadani</td>\n",
       "      <td>https://www.google.com/maps/reviews/data=!4m8!...</td>\n",
       "      <td>Makan disini beberapa menu makananya sangat en...</td>\n",
       "      <td>2025-04-22T07:03:28.979Z</td>\n",
       "      <td>2.0</td>\n",
       "      <td>5.0</td>\n",
       "      <td>5.0</td>\n",
       "    </tr>\n",
       "    <tr>\n",
       "      <th>2</th>\n",
       "      <td>Solaria - Lampung City Mall</td>\n",
       "      <td>Jl. Yos Sudarso No.44, Tlk. Betung, Kec. Bumi ...</td>\n",
       "      <td>https://www.google.com/maps/search/?api=1&amp;quer...</td>\n",
       "      <td>ChZDSUhNMG9nS0VJQ0FnTUNvbmE2REhREAE</td>\n",
       "      <td>5</td>\n",
       "      <td>sandi ariyadi</td>\n",
       "      <td>https://www.google.com/maps/reviews/data=!4m8!...</td>\n",
       "      <td>Front liner nya ramah...tempat bersih makanan ...</td>\n",
       "      <td>2025-04-19T06:39:55.229Z</td>\n",
       "      <td>5.0</td>\n",
       "      <td>5.0</td>\n",
       "      <td>5.0</td>\n",
       "    </tr>\n",
       "    <tr>\n",
       "      <th>3</th>\n",
       "      <td>Solaria - Lampung City Mall</td>\n",
       "      <td>Jl. Yos Sudarso No.44, Tlk. Betung, Kec. Bumi ...</td>\n",
       "      <td>https://www.google.com/maps/search/?api=1&amp;quer...</td>\n",
       "      <td>ChZDSUhNMG9nS0VJQ0FnTURJbTh5X05nEAE</td>\n",
       "      <td>2</td>\n",
       "      <td>Jhonny Sanjaya</td>\n",
       "      <td>https://www.google.com/maps/reviews/data=!4m8!...</td>\n",
       "      <td>Tolong untuk crew dapur / Chefnya , saya beli ...</td>\n",
       "      <td>2025-04-13T06:24:40.622Z</td>\n",
       "      <td>4.0</td>\n",
       "      <td>1.0</td>\n",
       "      <td>3.0</td>\n",
       "    </tr>\n",
       "    <tr>\n",
       "      <th>4</th>\n",
       "      <td>Solaria - Lampung City Mall</td>\n",
       "      <td>Jl. Yos Sudarso No.44, Tlk. Betung, Kec. Bumi ...</td>\n",
       "      <td>https://www.google.com/maps/search/?api=1&amp;quer...</td>\n",
       "      <td>ChdDSUhNMG9nS0VJQ0FnTUNJdzR1ODNnRRAB</td>\n",
       "      <td>3</td>\n",
       "      <td>Daryono Wardoyo</td>\n",
       "      <td>https://www.google.com/maps/reviews/data=!4m8!...</td>\n",
       "      <td>makan bareng ma keluarga kebagian pas di luar,...</td>\n",
       "      <td>2025-04-04T09:15:40.488Z</td>\n",
       "      <td>NaN</td>\n",
       "      <td>NaN</td>\n",
       "      <td>NaN</td>\n",
       "    </tr>\n",
       "  </tbody>\n",
       "</table>\n",
       "</div>"
      ],
      "text/plain": [
       "                         title  \\\n",
       "0  Solaria - Lampung City Mall   \n",
       "1  Solaria - Lampung City Mall   \n",
       "2  Solaria - Lampung City Mall   \n",
       "3  Solaria - Lampung City Mall   \n",
       "4  Solaria - Lampung City Mall   \n",
       "\n",
       "                                             address  \\\n",
       "0  Jl. Yos Sudarso No.44, Tlk. Betung, Kec. Bumi ...   \n",
       "1  Jl. Yos Sudarso No.44, Tlk. Betung, Kec. Bumi ...   \n",
       "2  Jl. Yos Sudarso No.44, Tlk. Betung, Kec. Bumi ...   \n",
       "3  Jl. Yos Sudarso No.44, Tlk. Betung, Kec. Bumi ...   \n",
       "4  Jl. Yos Sudarso No.44, Tlk. Betung, Kec. Bumi ...   \n",
       "\n",
       "                                                 url  \\\n",
       "0  https://www.google.com/maps/search/?api=1&quer...   \n",
       "1  https://www.google.com/maps/search/?api=1&quer...   \n",
       "2  https://www.google.com/maps/search/?api=1&quer...   \n",
       "3  https://www.google.com/maps/search/?api=1&quer...   \n",
       "4  https://www.google.com/maps/search/?api=1&quer...   \n",
       "\n",
       "                                            reviewId  stars  \\\n",
       "0  Ci9DQUlRQUNvZENodHljRjlvT21wSmFIbzRWa053TWtObF...      3   \n",
       "1               ChdDSUhNMG9nS0VJQ0FnTURvMUozeHl3RRAB      5   \n",
       "2                ChZDSUhNMG9nS0VJQ0FnTUNvbmE2REhREAE      5   \n",
       "3                ChZDSUhNMG9nS0VJQ0FnTURJbTh5X05nEAE      2   \n",
       "4               ChdDSUhNMG9nS0VJQ0FnTUNJdzR1ODNnRRAB      3   \n",
       "\n",
       "                     name                                          reviewUrl  \\\n",
       "0  CERMIN by Heno Soeroso  https://www.google.com/maps/reviews/data=!4m8!...   \n",
       "1           Rudy Ramadani  https://www.google.com/maps/reviews/data=!4m8!...   \n",
       "2           sandi ariyadi  https://www.google.com/maps/reviews/data=!4m8!...   \n",
       "3          Jhonny Sanjaya  https://www.google.com/maps/reviews/data=!4m8!...   \n",
       "4         Daryono Wardoyo  https://www.google.com/maps/reviews/data=!4m8!...   \n",
       "\n",
       "                                                text  \\\n",
       "0  Pu Yung hai rasanya kaya bakwan dikasih saos a...   \n",
       "1  Makan disini beberapa menu makananya sangat en...   \n",
       "2  Front liner nya ramah...tempat bersih makanan ...   \n",
       "3  Tolong untuk crew dapur / Chefnya , saya beli ...   \n",
       "4  makan bareng ma keluarga kebagian pas di luar,...   \n",
       "\n",
       "            publishedAtDate  reviewDetailedRating/Layanan  \\\n",
       "0  2025-05-29T03:10:20.007Z                           3.0   \n",
       "1  2025-04-22T07:03:28.979Z                           2.0   \n",
       "2  2025-04-19T06:39:55.229Z                           5.0   \n",
       "3  2025-04-13T06:24:40.622Z                           4.0   \n",
       "4  2025-04-04T09:15:40.488Z                           NaN   \n",
       "\n",
       "   reviewDetailedRating/Makanan  reviewDetailedRating/Suasana  \n",
       "0                           3.0                           3.0  \n",
       "1                           5.0                           5.0  \n",
       "2                           5.0                           5.0  \n",
       "3                           1.0                           3.0  \n",
       "4                           NaN                           NaN  "
      ]
     },
     "metadata": {},
     "output_type": "display_data"
    },
    {
     "name": "stdout",
     "output_type": "stream",
     "text": [
      "Jumlah baris data: 54124\n"
     ]
    }
   ],
   "source": [
    "# Load dataset ke dalam DataFrame\n",
    "# Ganti 'nama_file.csv' dengan nama file dataset yang sesuai\n",
    "df = pd.read_csv('../data/data_untuk_preprocessing.csv')\n",
    "\n",
    "# Tampilkan 5 baris pertama dan jumlah baris data\n",
    "display(df.head())\n",
    "print(f\"Jumlah baris data: {df.shape[0]}\")"
   ]
  },
  {
   "cell_type": "markdown",
   "id": "30390476",
   "metadata": {},
   "source": [
    "##### **Cek & Hapus Duplikat**\n",
    "Bagian ini bertujuan untuk memeriksa apakah terdapat data duplikat pada dataset. Data duplikat dapat menyebabkan bias atau hasil analisis yang tidak akurat. Jika ditemukan, data duplikat akan dihapus agar data yang digunakan untuk analisis benar-benar unik dan representatif."
   ]
  },
  {
   "cell_type": "code",
   "execution_count": 16,
   "id": "1a0bd3b7",
   "metadata": {},
   "outputs": [
    {
     "name": "stdout",
     "output_type": "stream",
     "text": [
      "Jumlah data duplikat berdasarkan 'reviewId': 4500\n",
      "Jumlah data setelah menghapus duplikat: 49624\n"
     ]
    }
   ],
   "source": [
    "# Cek & Hapus Duplikat Berdasarkan Kolom 'reviewId'\n",
    "# Pastikan kolom 'reviewId' ada di DataFrame\n",
    "if 'reviewId' in df.columns:\n",
    "    jumlah_duplikat = df.duplicated(subset='reviewId').sum()\n",
    "    print(f\"Jumlah data duplikat berdasarkan 'reviewId': {jumlah_duplikat}\")\n",
    "\n",
    "    # Hapus duplikat dan simpan ke df\n",
    "    df = df.drop_duplicates(subset='reviewId', keep='first')\n",
    "    print(f\"Jumlah data setelah menghapus duplikat: {len(df)}\")\n",
    "else:\n",
    "    print(\"Kolom 'reviewId' tidak ditemukan pada DataFrame.\")"
   ]
  },
  {
   "cell_type": "markdown",
   "id": "0ff92a8e",
   "metadata": {},
   "source": [
    "##### Cek & Tangani Missing Value\n",
    "Bagian ini bertujuan untuk memeriksa apakah terdapat data yang hilang (missing value) pada dataset. Data yang hilang dapat mempengaruhi hasil analisis dan modeling, sehingga perlu diidentifikasi dan ditangani dengan tepat. Proses ini meliputi pengecekan jumlah missing value di setiap kolom serta strategi penanganannya, seperti menghapus baris/kolom yang memiliki banyak missing value atau mengisi nilai yang hilang dengan metode tertentu (imputasi)."
   ]
  },
  {
   "cell_type": "markdown",
   "id": "6e46fa98",
   "metadata": {},
   "source": [
    "Cek Missing Value"
   ]
  },
  {
   "cell_type": "code",
   "execution_count": 17,
   "id": "4268fa8b",
   "metadata": {},
   "outputs": [
    {
     "name": "stdout",
     "output_type": "stream",
     "text": [
      "Jumlah missing value per kolom:\n",
      "title                               0\n",
      "address                             0\n",
      "url                                 0\n",
      "reviewId                            0\n",
      "stars                               0\n",
      "name                                0\n",
      "reviewUrl                           0\n",
      "text                            27207\n",
      "publishedAtDate                     0\n",
      "reviewDetailedRating/Layanan    16228\n",
      "reviewDetailedRating/Makanan    16285\n",
      "reviewDetailedRating/Suasana    16645\n",
      "dtype: int64\n"
     ]
    }
   ],
   "source": [
    "# Cek jumlah missing value pada setiap kolom\n",
    "missing_values = df.isnull().sum()\n",
    "print(\"Jumlah missing value per kolom:\")\n",
    "print(missing_values)"
   ]
  },
  {
   "cell_type": "markdown",
   "id": "72720303",
   "metadata": {},
   "source": [
    "Missing Value pada Kolom text diabaikan\n",
    "\n",
    "Missing Value pada Kolom reviewDetailedRating/Layanan, reviewDetailedRating/Makanan, reviewDetailedRating/Suasana diisi dengan nilai stars"
   ]
  },
  {
   "cell_type": "code",
   "execution_count": 19,
   "id": "7374a41a",
   "metadata": {
    "vscode": {
     "languageId": "ruby"
    }
   },
   "outputs": [
    {
     "name": "stdout",
     "output_type": "stream",
     "text": [
      "Imputasi missing value pada kolom rating detail dengan nilai dari kolom 'stars' selesai.\n"
     ]
    }
   ],
   "source": [
    "# Imputasi missing value pada kolom rating detail dengan nilai dari kolom 'stars'\n",
    "cols_to_fill = [\n",
    "    'reviewDetailedRating/Layanan',\n",
    "    'reviewDetailedRating/Makanan',\n",
    "    'reviewDetailedRating/Suasana'\n",
    "]\n",
    "\n",
    "for col in cols_to_fill:\n",
    "    df[col] = df[col].fillna(df['stars'])\n",
    "\n",
    "print(\"Imputasi missing value pada kolom rating detail dengan nilai dari kolom 'stars' selesai.\")"
   ]
  },
  {
   "cell_type": "markdown",
   "id": "a167bbb5",
   "metadata": {},
   "source": [
    "##### Feature Engineering\n",
    "Pada tahap feature engineering, kita akan membuat fitur-fitur baru atau memodifikasi fitur yang sudah ada untuk meningkatkan kualitas data sebelum digunakan dalam analisis atau pemodelan. \n",
    "\n",
    "Feature engineering yang dilakukan antara lain: \n",
    "- Mengubah isi tanggal review (publishedAtDate) yang awalnya seperti 2025-05-29T03:10:20.007Z menjadi 2025-05-29\n",
    "- Membuat fitur panjang teks review (textLength) dari text review (text)\n",
    "\n",
    "Proses ini bertujuan agar data lebih informatif dan relevan untuk analisis selanjutnya."
   ]
  },
  {
   "cell_type": "code",
   "execution_count": 21,
   "id": "51659434",
   "metadata": {
    "vscode": {
     "languageId": "ruby"
    }
   },
   "outputs": [
    {
     "data": {
      "text/html": [
       "<div>\n",
       "<style scoped>\n",
       "    .dataframe tbody tr th:only-of-type {\n",
       "        vertical-align: middle;\n",
       "    }\n",
       "\n",
       "    .dataframe tbody tr th {\n",
       "        vertical-align: top;\n",
       "    }\n",
       "\n",
       "    .dataframe thead th {\n",
       "        text-align: right;\n",
       "    }\n",
       "</style>\n",
       "<table border=\"1\" class=\"dataframe\">\n",
       "  <thead>\n",
       "    <tr style=\"text-align: right;\">\n",
       "      <th></th>\n",
       "      <th>publishedAtDate</th>\n",
       "      <th>text</th>\n",
       "      <th>textLength</th>\n",
       "    </tr>\n",
       "  </thead>\n",
       "  <tbody>\n",
       "    <tr>\n",
       "      <th>0</th>\n",
       "      <td>2025-05-29</td>\n",
       "      <td>Pu Yung hai rasanya kaya bakwan dikasih saos a...</td>\n",
       "      <td>57</td>\n",
       "    </tr>\n",
       "    <tr>\n",
       "      <th>1</th>\n",
       "      <td>2025-04-22</td>\n",
       "      <td>Makan disini beberapa menu makananya sangat en...</td>\n",
       "      <td>591</td>\n",
       "    </tr>\n",
       "    <tr>\n",
       "      <th>2</th>\n",
       "      <td>2025-04-19</td>\n",
       "      <td>Front liner nya ramah...tempat bersih makanan ...</td>\n",
       "      <td>76</td>\n",
       "    </tr>\n",
       "    <tr>\n",
       "      <th>3</th>\n",
       "      <td>2025-04-13</td>\n",
       "      <td>Tolong untuk crew dapur / Chefnya , saya beli ...</td>\n",
       "      <td>260</td>\n",
       "    </tr>\n",
       "    <tr>\n",
       "      <th>4</th>\n",
       "      <td>2025-04-04</td>\n",
       "      <td>makan bareng ma keluarga kebagian pas di luar,...</td>\n",
       "      <td>152</td>\n",
       "    </tr>\n",
       "  </tbody>\n",
       "</table>\n",
       "</div>"
      ],
      "text/plain": [
       "  publishedAtDate                                               text  \\\n",
       "0      2025-05-29  Pu Yung hai rasanya kaya bakwan dikasih saos a...   \n",
       "1      2025-04-22  Makan disini beberapa menu makananya sangat en...   \n",
       "2      2025-04-19  Front liner nya ramah...tempat bersih makanan ...   \n",
       "3      2025-04-13  Tolong untuk crew dapur / Chefnya , saya beli ...   \n",
       "4      2025-04-04  makan bareng ma keluarga kebagian pas di luar,...   \n",
       "\n",
       "   textLength  \n",
       "0          57  \n",
       "1         591  \n",
       "2          76  \n",
       "3         260  \n",
       "4         152  "
      ]
     },
     "metadata": {},
     "output_type": "display_data"
    }
   ],
   "source": [
    "# Feature Engineering\n",
    "\n",
    "# 1. Ubah format tanggal 'publishedAtDate' menjadi hanya tanggal (YYYY-MM-DD)\n",
    "df['publishedAtDate'] = pd.to_datetime(df['publishedAtDate']).dt.date\n",
    "\n",
    "# 2. Buat fitur panjang teks review (textLength)\n",
    "df['textLength'] = df['text'].fillna('').apply(len)\n",
    "\n",
    "# Tampilkan 5 baris pertama hasil feature engineering\n",
    "display(df[['publishedAtDate', 'text', 'textLength']].head())"
   ]
  },
  {
   "cell_type": "markdown",
   "id": "e9b5f17f",
   "metadata": {},
   "source": [
    "\n",
    "##### Filter Data\n",
    "\n",
    "Bagian ini digunakan untuk melakukan filter data sesuai kriteria tertentu : \n",
    "- Review yang dibutuhkan hanya review 1 tahun terakhir (gunakan kolom \"publishedAtDate\").\n",
    "- Cek setiap tempat (title) memiliki berapa banyak review.\n",
    "- Sesuaikan nama kolom agar lebih mudah dipahami.\n",
    "\n",
    "Filter data bertujuan untuk memastikan hanya data yang sesuai dan berkualitas yang digunakan pada tahap selanjutnya, sehingga hasil analisis menjadi lebih akurat dan fokus pada permasalahan yang ingin dikaji.\n",
    "\n"
   ]
  },
  {
   "cell_type": "markdown",
   "id": "016af753",
   "metadata": {},
   "source": [
    "Review yang dibutuhkan hanya review 1 tahun terakhir (gunakan kolom \"publishedAtDate\")"
   ]
  },
  {
   "cell_type": "code",
   "execution_count": 23,
   "id": "c64f0e2a",
   "metadata": {},
   "outputs": [
    {
     "name": "stdout",
     "output_type": "stream",
     "text": [
      "Jumlah review 1 tahun terakhir: 37625\n"
     ]
    }
   ],
   "source": [
    "# Filter review 1 tahun terakhir berdasarkan kolom 'publishedAtDate'\n",
    "from datetime import datetime, timedelta\n",
    "\n",
    "# Pastikan kolom 'publishedAtDate' sudah bertipe datetime.date\n",
    "if df['publishedAtDate'].dtype != 'O':\n",
    "    # Sudah bertipe date\n",
    "    today = datetime.today().date()\n",
    "else:\n",
    "    # Konversi ke datetime.date\n",
    "    df['publishedAtDate'] = pd.to_datetime(df['publishedAtDate']).dt.date\n",
    "    today = datetime.today().date()\n",
    "\n",
    "# Ambil tanggal 1 tahun yang lalu dari hari ini\n",
    "one_year_ago = today - timedelta(days=365)\n",
    "\n",
    "# Filter data\n",
    "df = df[df['publishedAtDate'] >= one_year_ago]\n",
    "\n",
    "print(f\"Jumlah review 1 tahun terakhir: {len(df)}\")"
   ]
  },
  {
   "cell_type": "markdown",
   "id": "cce210c4",
   "metadata": {},
   "source": [
    "- Cek setiap tempat (title) memiliki berapa banyak review\n",
    "- Sesuaikan nama kolom agar lebih mudah dipahami."
   ]
  },
  {
   "cell_type": "markdown",
   "id": "7cd22e95",
   "metadata": {},
   "source": [
    "\n",
    "##### Bersihkan Data Teks\n",
    "\n",
    "Hilangkan karakter aneh, whitespace, dan normalisasi teks pada kolom review.\n",
    "Validasi Data Lokasi\n",
    "Pastikan data lokasi (latitude, longitude) valid dan masuk akal.\n"
   ]
  }
 ],
 "metadata": {
  "kernelspec": {
   "display_name": "venv",
   "language": "python",
   "name": "python3"
  },
  "language_info": {
   "codemirror_mode": {
    "name": "ipython",
    "version": 3
   },
   "file_extension": ".py",
   "mimetype": "text/x-python",
   "name": "python",
   "nbconvert_exporter": "python",
   "pygments_lexer": "ipython3",
   "version": "3.9.13"
  }
 },
 "nbformat": 4,
 "nbformat_minor": 5
}
